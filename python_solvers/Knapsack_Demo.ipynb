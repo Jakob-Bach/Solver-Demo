{
 "cells": [
  {
   "cell_type": "markdown",
   "metadata": {},
   "source": [
    "# Optimization Demo\n",
    "\n",
    "We demonstrate solvers on a knapsack problem with uniform weights.\n",
    "This means that we have a linear target function and one cardinality constraint (select at most k out of n)."
   ]
  },
  {
   "cell_type": "code",
   "execution_count": 1,
   "metadata": {},
   "outputs": [],
   "source": [
    "import time\n",
    "import random\n",
    "    \n",
    "n = 20\n",
    "k = 10\n",
    "\n",
    "random.seed(25)\n",
    "utilities = [random.randint(1, 100) for _ in range(n)]\n",
    "print('Utilities:', utilities)"
   ]
  },
  {
   "cell_type": "markdown",
   "metadata": {},
   "source": [
    "## Z3\n",
    "\n",
    "The [`Z3` library](https://github.com/Z3Prover/z3/wiki) offers SMT optimization for various programming languages, besides its SMT solving capabilities.\n",
    "There are multiple ways to formulate a cardinality constraint."
   ]
  },
  {
   "cell_type": "code",
   "execution_count": 2,
   "metadata": {},
   "outputs": [
    {
     "name": "stdout",
     "output_type": "stream",
     "text": [
      "n=20, k=10, time: 0.09s\n",
      "Objective value: 799\n",
      "Assignments: [0, 1, 0, 0, 0, 1, 1, 0, 1, 0, 0, 0, 1, 1, 0, 1, 0, 1, 1, 1]\n"
     ]
    }
   ],
   "source": [
    "import z3\n",
    "\n",
    "\n",
    "variables = z3.Bools(' '.join(['Variable_' + str(i) for i in range(n)]))\n",
    "optimizer = z3.Optimize()\n",
    "objective = z3.Sum(*[z3.If(var, val, 0) for var, val in zip(variables, utilities)])\n",
    "objective = optimizer.maximize(objective)\n",
    "optimizer.add(z3.AtMost(*variables, k))  # alternative 1\n",
    "# optimizer.add(z3.PbLe([(x, 1) for x in variables], k))  # alternative 2 (will be transformed to alternative 1)\n",
    "# optimizer.add(z3.Sum(*[z3.If(x, 1, 0) for x in variables]) <= k)  # alternative 3\n",
    "start_time = time.perf_counter()\n",
    "optimizer.check()\n",
    "end_time = time.perf_counter()\n",
    "print(f'{n=}, {k=}, time: {end_time-start_time:.2f}s')\n",
    "print('Objective value:', objective.value())\n",
    "print('Assignments:', [int(str(optimizer.model()[var]) == 'True') for var in variables])\n",
    "# print(optimizer)  # internal representation of optimizer"
   ]
  },
  {
   "cell_type": "markdown",
   "metadata": {},
   "source": [
    "## Google OR-Tools\n",
    "\n",
    "`Google OR-Tools` also provides a [constraint optimizer](https://developers.google.com/optimization/cp/integer_opt_cp) besides its [solver](https://developers.google.com/optimization/cp/cp_solver) and besides optimizers for other types of problems.\n",
    "(For example, there is a specialized solver for knapsack problems, bu we want to try a general-purpose solver).\n",
    "It supports multiple programming languages.\n",
    "In constrast to `Z3`, its capabilities to formulate constraints are limited.\n",
    "Though many different constraint types are supported, most constraint types need to be added to the model directly and are stored in different attributes of the model instance, probably to receive a special treatment during optimization.\n",
    "This prevents arbitrary nesting of expressions.\n",
    "Only sums, products and weighted sums can be build freely, but for example not logical expressions."
   ]
  },
  {
   "cell_type": "code",
   "execution_count": 3,
   "metadata": {},
   "outputs": [
    {
     "name": "stdout",
     "output_type": "stream",
     "text": [
      "Optimal? True\n",
      "n=20, k=10, time: 0.01s\n",
      "Objective value: 799.0\n",
      "Assignments: [0, 1, 0, 0, 0, 1, 1, 0, 1, 0, 0, 0, 1, 1, 0, 1, 0, 1, 1, 1]\n"
     ]
    }
   ],
   "source": [
    "from ortools.sat.python import cp_model\n",
    "\n",
    "\n",
    "model = cp_model.CpModel()\n",
    "variables = [model.NewBoolVar('Variable' + str(i)) for i in range(n)]\n",
    "# objective = sum([var * val for var, val in zip(variables, utilities)])  # builds a nested expression\n",
    "objective = cp_model.LinearExpr.ScalProd(variables, utilities)  # expression looks more straightforward\n",
    "model.Maximize(objective)\n",
    "# constraint = sum(variables) <= k    # builds a nested expression\n",
    "constraint = cp_model.LinearExpr.Sum(variables) <= k  # same expression, less parantheses\n",
    "model.Add(constraint)\n",
    "solver = cp_model.CpSolver()\n",
    "start_time = time.perf_counter()\n",
    "status = solver.Solve(model)\n",
    "end_time = time.perf_counter()\n",
    "print('Optimal?', status == cp_model.OPTIMAL)\n",
    "print(f'{n=}, {k=}, time: {end_time-start_time:.2f}s')\n",
    "print('Objective value:', solver.ObjectiveValue())\n",
    "print('Assignments:', [solver.Value(var) for var in variables])"
   ]
  },
  {
   "cell_type": "markdown",
   "metadata": {},
   "source": [
    "## GEKKO\n",
    "\n",
    "`GEKKO` mainly provides [optimizers](https://gekko.readthedocs.io/en/latest/) for various kinds of algebraic problems.\n",
    "With the help of min and max functions, you could also realize simple logical expressions.\n",
    "To represent expressions, GEKKO might introduce new variables and bind them with constraints.\n",
    "In fact, expressions are always created from a model instance and are stored there, even if you don't choose to fomally add the constraints.\n",
    "Also, note that the final assignments might be a little off from their corresponding integers, probably due to numerical issues."
   ]
  },
  {
   "cell_type": "code",
   "execution_count": 4,
   "metadata": {},
   "outputs": [
    {
     "name": "stdout",
     "output_type": "stream",
     "text": [
      "n=20, k=10, time: 0.20s\n",
      "Objective value: 799.00000614\n",
      "Assignments: [1.6053684221e-11, 1.0, 0.0, 0.0, 0.0, 1.0, 1.0, 0.0, 1.0, 0.0, 0.0, 0.0, 1.0, 1.0, 0.0, 1.0, 0.0, 1.0, 1.0, 1.0]\n"
     ]
    }
   ],
   "source": [
    "import gekko\n",
    "\n",
    "\n",
    "model = gekko.GEKKO(remote=False)\n",
    "variables = [model.Var(lb=0, ub=1, integer=True, name='Variable_' + str(i)) for i in range(n)]\n",
    "objective = model.sum([var * val for var, val in zip(variables, utilities)])\n",
    "model.Maximize(objective)\n",
    "model.Equation(model.sum(variables) <= k)\n",
    "start_time = time.perf_counter()\n",
    "model.solve(disp=False)\n",
    "end_time = time.perf_counter()\n",
    "print(f'{n=}, {k=}, time: {end_time-start_time:.2f}s')\n",
    "print('Objective value:', objective.value[0])\n",
    "print('Assignments:', [var.value[0] for var in variables])\n",
    "# print(model._objectives)  # internal representation\n",
    "# for eq in model._equations:\n",
    "#     print(eq)\n",
    "# print(model._connections)\n",
    "# print(model._objects)"
   ]
  }
 ],
 "metadata": {
  "kernelspec": {
   "display_name": "solver-demo",
   "language": "python",
   "name": "solver-demo"
  },
  "language_info": {
   "codemirror_mode": {
    "name": "ipython",
    "version": 3
   },
   "file_extension": ".py",
   "mimetype": "text/x-python",
   "name": "python",
   "nbconvert_exporter": "python",
   "pygments_lexer": "ipython3",
   "version": "3.8.3"
  }
 },
 "nbformat": 4,
 "nbformat_minor": 4
}
