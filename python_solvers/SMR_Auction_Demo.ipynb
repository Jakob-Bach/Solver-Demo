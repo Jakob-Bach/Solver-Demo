{
 "cells": [
  {
   "cell_type": "markdown",
   "id": "6eef2f5c",
   "metadata": {},
   "source": [
    "# Modeling a Simultaneous Multi-Round Auction with `Z3`\n",
    "\n",
    "This notebook models the simultaneous multi-round auction from the paper [\"Analyzing and Predicting Verification of\n",
    "Data-Aware Process Models—A Case\n",
    "Study With Spectrum Auctions\"](https://doi.org/10.1109/ACCESS.2022.3154445) as an SMT problem.\n",
    "As solver (= optimizer), we use the theorem prover [`Z3`](https://github.com/Z3Prover/z3).\n",
    "The original verification procedure involved modeling the auction with BPMN (including data values), reducing the BPMN models, transforming to Petri nets, and verifying about 130k properties with the model checker `LoLA`.\n",
    "Overall, the verification took several days.\n",
    "In contrast, we only need one optimizer call here, which finishes in less than a second 🙃"
   ]
  },
  {
   "cell_type": "code",
   "execution_count": 1,
   "id": "c3846097",
   "metadata": {},
   "outputs": [],
   "source": [
    "import numpy as np\n",
    "import z3\n",
    "\n",
    "import time"
   ]
  },
  {
   "cell_type": "markdown",
   "id": "7a465bbb",
   "metadata": {},
   "source": [
    "## Constants\n",
    "\n",
    "In general, a simultaneous multi-round auction has $m$ bidders and $n$ products.\n",
    "We don't model the multiple rounds, as our objective and constraints all relate to the result after the final round.\n",
    "We give the variables and constants in the code descriptive names, but use the shorthand notation in formulas in the explanatory text.\n",
    "We use the index $1 \\leq i \\leq m$ for bidders and the index $1 \\leq j \\leq n$ for products.\n",
    "The concrete auction we model has 4 bidders and 6 products.\n",
    "The auction design resembles the German 4G spectrum auction for the 800 MHz band:"
   ]
  },
  {
   "cell_type": "code",
   "execution_count": 2,
   "id": "439fe025",
   "metadata": {},
   "outputs": [],
   "source": [
    "NUM_BIDDERS = 4\n",
    "NUM_PRODUCTS = 6"
   ]
  },
  {
   "cell_type": "markdown",
   "id": "7db93d87",
   "metadata": {},
   "source": [
    "Each bidder has a budget $b_{ij}$ for each product, which we define as in the paper linked above:"
   ]
  },
  {
   "cell_type": "code",
   "execution_count": 3,
   "id": "19986465",
   "metadata": {},
   "outputs": [],
   "source": [
    "budgets = [[90, 90, 90, 60, 90, 90],\n",
    "           [90, 80, 80, 80, 80, 80],\n",
    "           [70, 80, 70, 70, 70, 60],\n",
    "           [60, 60, 70, 60, 90, 60]]"
   ]
  },
  {
   "cell_type": "markdown",
   "id": "cc60f72a",
   "metadata": {},
   "source": [
    "Each bidder also has a capacity $c_i$, i.e., a maximum number of products they are allowed to win: "
   ]
  },
  {
   "cell_type": "code",
   "execution_count": 4,
   "id": "1054f4a1",
   "metadata": {},
   "outputs": [],
   "source": [
    "capacities = [2, 3, 2, 1]"
   ]
  },
  {
   "cell_type": "markdown",
   "id": "3da84a41",
   "metadata": {},
   "source": [
    "Each product has a reserve price $r_j$, i.e., a minimum price:"
   ]
  },
  {
   "cell_type": "code",
   "execution_count": 5,
   "id": "b88bfdca",
   "metadata": {},
   "outputs": [],
   "source": [
    "reserve_prices = [3, 3, 3, 3, 3, 3]"
   ]
  },
  {
   "cell_type": "markdown",
   "id": "989ae173",
   "metadata": {},
   "source": [
    "## Variables\n",
    "\n",
    "There are two kinds of variables.\n",
    "\n",
    "First, let $x_{ij} \\in \\{0,1\\}$ denote whether Bidder $i$ wins Product $j$:"
   ]
  },
  {
   "cell_type": "code",
   "execution_count": 6,
   "id": "70f88dcf",
   "metadata": {},
   "outputs": [],
   "source": [
    "is_winner = [[z3.Bool(f'x_{i},{j}') for j in range(NUM_PRODUCTS)] for i in range(NUM_BIDDERS)]"
   ]
  },
  {
   "cell_type": "markdown",
   "id": "2131f9fb",
   "metadata": {},
   "source": [
    "Second, let $p_j \\in \\mathbb{R}$ denote the final price of each product:"
   ]
  },
  {
   "cell_type": "code",
   "execution_count": 7,
   "id": "9fd0552c",
   "metadata": {},
   "outputs": [],
   "source": [
    "prices = [z3.Real(f'p_{j}') for j in range(NUM_PRODUCTS)]"
   ]
  },
  {
   "cell_type": "markdown",
   "id": "97664484",
   "metadata": {},
   "source": [
    "## Objective\n",
    "\n",
    "We are ready to create the instance of the optimization problem:"
   ]
  },
  {
   "cell_type": "code",
   "execution_count": 8,
   "id": "60b47708",
   "metadata": {},
   "outputs": [],
   "source": [
    "optimizer = z3.Optimize()"
   ]
  },
  {
   "cell_type": "markdown",
   "id": "42507c57",
   "metadata": {},
   "source": [
    "Our objective is to determine the minimum revenue for the auctioneer, i.e., $ \\min \\sum_{j=1}^n p_j$:"
   ]
  },
  {
   "cell_type": "code",
   "execution_count": 9,
   "id": "7ebde828",
   "metadata": {},
   "outputs": [],
   "source": [
    "objective = optimizer.minimize(z3.Sum(prices))"
   ]
  },
  {
   "cell_type": "markdown",
   "id": "23886f14",
   "metadata": {},
   "source": [
    "## Constraints\n",
    "\n",
    "There are five kinds of constraints.\n",
    "\n",
    "First, the final price of each product has to be at least its corresponding reserve price, i.e., $\\forall~1 \\leq j \\leq n:~p_j \\geq r_j$:"
   ]
  },
  {
   "cell_type": "code",
   "execution_count": 10,
   "id": "38b32f48",
   "metadata": {},
   "outputs": [],
   "source": [
    "for j in range(NUM_PRODUCTS):\n",
    "    optimizer.add(prices[j] >= reserve_prices[j])"
   ]
  },
  {
   "cell_type": "markdown",
   "id": "4e1b2ec2",
   "metadata": {},
   "source": [
    "Second, each product has to be won by exactly one bidder, i.e., $\\forall~1 \\leq j \\leq n:~\\sum_{i=1}^m x_{ij} = 1$:"
   ]
  },
  {
   "cell_type": "code",
   "execution_count": 11,
   "id": "2bf64fc4",
   "metadata": {},
   "outputs": [],
   "source": [
    "for j in range(NUM_PRODUCTS):\n",
    "    optimizer.add(z3.AtLeast(*[is_winner[i][j] for i in range(NUM_BIDDERS)], 1))\n",
    "    optimizer.add(z3.AtMost(*[is_winner[i][j] for i in range(NUM_BIDDERS)], 1))"
   ]
  },
  {
   "cell_type": "markdown",
   "id": "5a8b784e",
   "metadata": {},
   "source": [
    "Third, each bidder has to stay within their capacity, i.e., $\\forall~1 \\leq i \\leq m:~\\sum_{j=1}^n x_{ij} \\leq c_i$:"
   ]
  },
  {
   "cell_type": "code",
   "execution_count": 12,
   "id": "f319208b",
   "metadata": {},
   "outputs": [],
   "source": [
    "for i in range(NUM_BIDDERS):\n",
    "    optimizer.add(z3.AtMost(*is_winner[i], capacities[i]))"
   ]
  },
  {
   "cell_type": "markdown",
   "id": "c1ff08d2",
   "metadata": {},
   "source": [
    "Fourth, each bidder has to stay within their corresponding budget for each product they win, i.e., $\\forall~1 \\leq i \\leq m~\\forall~1 \\leq j \\leq n: x_{ij} \\rightarrow (p_j \\leq b_{ij})$:"
   ]
  },
  {
   "cell_type": "code",
   "execution_count": 13,
   "id": "a48d4e03",
   "metadata": {},
   "outputs": [],
   "source": [
    "for i in range(NUM_BIDDERS):\n",
    "    for j in range(NUM_PRODUCTS):\n",
    "        optimizer.add(z3.Implies(is_winner[i][j], prices[j] <= budgets[i][j]))"
   ]
  },
  {
   "cell_type": "markdown",
   "id": "a108d0df",
   "metadata": {},
   "source": [
    "Fifth, if bidders don't use their full capacity, they must be out of budget for all products, i.e., $\\forall~1 \\leq i \\leq m:~(\\sum_{j=1}^n x_{ij} < c_i) \\rightarrow (\\bigwedge_{1 \\leq j \\leq n}~p_j \\geq b_{ij})$.\n",
    "This means that there must not be bidders that have both budget and capacity left (because in that case they would continue bidding):"
   ]
  },
  {
   "cell_type": "code",
   "execution_count": 14,
   "id": "e38c36e6",
   "metadata": {},
   "outputs": [],
   "source": [
    "for i in range(NUM_BIDDERS):\n",
    "    optimizer.add(z3.Implies(z3.AtMost(*is_winner[i], capacities[i] - 1),\n",
    "                             z3.And([p >= b for p, b in zip(prices, budgets[i])])))"
   ]
  },
  {
   "cell_type": "markdown",
   "id": "17063221",
   "metadata": {},
   "source": [
    "As an alternative, one could also model the logical contrapositive, i.e., if bidders don't bid higher though they could, they must be out of capacity, i.e., $\\forall~1 \\leq i \\leq m:~(\\bigvee_{1 \\leq j \\leq n}~p_j < b_{ij}) \\rightarrow (\\sum_{j=1}^n x_{ij} = c_i)$:"
   ]
  },
  {
   "cell_type": "code",
   "execution_count": 15,
   "id": "3dde41d8",
   "metadata": {},
   "outputs": [],
   "source": [
    "# for i in range(NUM_BIDDERS):\n",
    "#     optimizer.add(z3.Implies(z3.Or([p < b for p, b in zip(prices, budgets[i])]),\n",
    "#                              z3.AtLeast(*is_winner[i], capacities[i])))"
   ]
  },
  {
   "cell_type": "markdown",
   "id": "3516e668",
   "metadata": {},
   "source": [
    "## Optimization\n",
    "\n",
    "Now we have all ingredients to run the optimizer:"
   ]
  },
  {
   "cell_type": "code",
   "execution_count": 16,
   "id": "08aa07a0",
   "metadata": {},
   "outputs": [
    {
     "name": "stdout",
     "output_type": "stream",
     "text": [
      "Result: sat\n",
      "Time: 0.012 s\n"
     ]
    }
   ],
   "source": [
    "start_time = time.perf_counter()\n",
    "result = optimizer.check()\n",
    "end_time = time.perf_counter()\n",
    "print('Result:', result)\n",
    "print('Time:', round(end_time - start_time, 3), 's')"
   ]
  },
  {
   "cell_type": "markdown",
   "id": "e829eaae",
   "metadata": {},
   "source": [
    "The problem is satisfiable, and the solver was quite fast (granted, the problem was very small).\n",
    "\n",
    "Let's have a look at the objective and the variable assignments:"
   ]
  },
  {
   "cell_type": "code",
   "execution_count": 17,
   "id": "9cec0ce7",
   "metadata": {},
   "outputs": [
    {
     "name": "stdout",
     "output_type": "stream",
     "text": [
      "Revenue: 420\n",
      "Prices: [70, 80, 70, 70, 70, 60]\n",
      "Winners: [2 1 1 2 4 2]\n"
     ]
    }
   ],
   "source": [
    "print('Revenue:', objective.value())\n",
    "print('Prices:', [optimizer.model()[p] for p in prices])\n",
    "is_winner_values = np.array([[int(bool(optimizer.model()[is_winner[i][j]]))\n",
    "                              for j in range(NUM_PRODUCTS)] for i in range(NUM_BIDDERS)])\n",
    "print('Winners:', np.argmax(is_winner_values, axis=0) + 1)  # \"+ 1\" to avoid zero-indexing"
   ]
  },
  {
   "cell_type": "markdown",
   "id": "1f9dd8e8",
   "metadata": {},
   "source": [
    "The results look sensible, but for unknown reasons, the minimum revenue is 10 less than in the Petri-net modeling/verification."
   ]
  }
 ],
 "metadata": {
  "kernelspec": {
   "display_name": "solver-demo",
   "language": "python",
   "name": "solver-demo"
  },
  "language_info": {
   "codemirror_mode": {
    "name": "ipython",
    "version": 3
   },
   "file_extension": ".py",
   "mimetype": "text/x-python",
   "name": "python",
   "nbconvert_exporter": "python",
   "pygments_lexer": "ipython3",
   "version": "3.8.13"
  }
 },
 "nbformat": 4,
 "nbformat_minor": 5
}
