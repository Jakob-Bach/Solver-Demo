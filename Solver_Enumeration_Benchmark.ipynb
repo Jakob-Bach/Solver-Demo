{
 "cells": [
  {
   "cell_type": "markdown",
   "metadata": {},
   "source": [
    "# Solver Benchmark - Finding All Solutions\n",
    "\n",
    "We analyze how fast various solvers are in listing all solutions for a simple AND and a simple OR formula.\n",
    "Solvers might not natively support listing all solutions, but instead rather present a single one.\n",
    "However, one can simply add the negation of the previous solution as another constraint and run the solver again.\n",
    "\n",
    "Besides bechmarking the solvers, this notebook also demonstrates their API in general."
   ]
  },
  {
   "cell_type": "code",
   "execution_count": 1,
   "metadata": {},
   "outputs": [],
   "source": [
    "import time\n",
    "\n",
    "def benchmark(name, function, param1, param2):\n",
    "    \"\"\"Benchmark a function with two parameters.\"\"\"\n",
    "    \n",
    "    print('--'+ name + ' approach--')\n",
    "    start_time = time.perf_counter()\n",
    "    print('Number of models: ' + str(function(param1, param2)))\n",
    "    end_time = time.perf_counter()\n",
    "    print('Time: ' + str(round(end_time - start_time, 2)) + ' s')"
   ]
  },
  {
   "cell_type": "markdown",
   "metadata": {},
   "source": [
    "## Z3"
   ]
  },
  {
   "cell_type": "markdown",
   "metadata": {},
   "source": [
    "The [`Z3` library](https://github.com/Z3Prover/z3/wiki) offers SMT solving as well as optimization for various programming lnaguages.\n",
    "The solver returns only one valid solution.\n",
    "We try multiple ways to find/count all satisfying interpretations (models):\n",
    "- Enumeration-based: Enumerate all possible assignments and check if they satisfy all assertions. This is possible in `Z3` with\n",
    "  - conditional checking, which temporarily adds the literals corresponding to the assignment as further constraints and checks the resulting model.\n",
    "  - substitution of the variables with their values, followed by simplification.\n",
    "- [Solver-based](https://stackoverflow.com/questions/13395391/z3-finding-all-satisfying-models): Find the first model with the solver. Add the negation of its assignment as another constraint and re-run the solver. Thus, the solver will find a different solution. Repeat until unsatisfiable."
   ]
  },
  {
   "cell_type": "code",
   "execution_count": 2,
   "metadata": {},
   "outputs": [],
   "source": [
    "from z3 import *\n",
    "\n",
    "def count_models_with_solver(solver, variables):\n",
    "    solver.push() # as we will add further assertions to solver, checkpoint current state\n",
    "    solutions = 0\n",
    "    while solver.check() == sat:\n",
    "        solutions = solutions + 1\n",
    "        # Invert at least one variable to get a different solution:\n",
    "        solver.add(Or([Not(x) if is_true(solver.model()[x]) else x for x in variables]))\n",
    "    solver.pop() # restore solver to previous state\n",
    "    return solutions\n",
    "\n",
    "import itertools\n",
    "\n",
    "# Fastest enumeration: conditional checking.\n",
    "def count_models_by_enumeration(solver, variables):\n",
    "    solutions = 0\n",
    "    for assignment in itertools.product(*[(x, Not(x)) for x in variables]): # all combinations\n",
    "        if solver.check(assignment) == sat: # conditional check (does not add assignment permanently)\n",
    "            solutions = solutions + 1\n",
    "    return solutions\n",
    "\n",
    "# Creating the assignment as a separate step is slower.\n",
    "def count_models_by_enumeration2(solver, variables):\n",
    "    solutions = 0\n",
    "    for assignment in itertools.product([False, True], repeat = len(variables)): # all combinations\n",
    "        if solver.check([x if assign_true else Not(x) for x, assign_true in zip(variables, assignment)]) == sat:\n",
    "            solutions = solutions + 1\n",
    "    return solutions\n",
    "\n",
    "# Using simplication instead of conditional checking is even slower.\n",
    "def count_models_by_enumeration3(solver, variables):\n",
    "    solutions = 0\n",
    "    for assignment in itertools.product([BoolVal(False), BoolVal(True)], repeat = len(variables)): # all combinations\n",
    "        satisfied = True\n",
    "        for assertion in solver.assertions():\n",
    "            if is_false(simplify(substitute(assertion, list(zip(variables, assignment))))):\n",
    "                satisfied = False\n",
    "                break\n",
    "        if satisfied: solutions = solutions + 1\n",
    "    return solutions"
   ]
  },
  {
   "cell_type": "markdown",
   "metadata": {},
   "source": [
    "We try both approaches with a small propositional formula with 10 variables, using an AND constraint as well as an OR constraint."
   ]
  },
  {
   "cell_type": "code",
   "execution_count": 3,
   "metadata": {},
   "outputs": [
    {
     "name": "stdout",
     "output_type": "stream",
     "text": [
      "## OR formula ##\n",
      "--Solver-based approach--\n",
      "Number of models: 1023\n",
      "Time: 1.41 s\n",
      "--Enumeration-based (conditional check, direct assignment) approach--\n",
      "Number of models: 1023\n",
      "Time: 0.02 s\n",
      "--Enumeration-based (conditional check, separate assignment) approach--\n",
      "Number of models: 1023\n",
      "Time: 0.21 s\n",
      "--Enumeration-based (substitute + simplify) approach--\n",
      "Number of models: 1023\n",
      "Time: 0.38 s\n",
      "\n",
      "## AND formula ##\n",
      "--Solver-based approach--\n",
      "Number of models: 1\n",
      "Time: 0.0 s\n",
      "--Enumeration-based (conditional check, direct assignment) approach--\n",
      "Number of models: 1\n",
      "Time: 0.01 s\n",
      "--Enumeration-based (conditional check, separate assignment) approach--\n",
      "Number of models: 1\n",
      "Time: 0.21 s\n",
      "--Enumeration-based (substitute + simplify) approach--\n",
      "Number of models: 1\n",
      "Time: 0.38 s\n"
     ]
    }
   ],
   "source": [
    "from z3 import *\n",
    "\n",
    "x = Bools(' '.join('x' + str(i) for i in range(10)))\n",
    "solver = Solver()\n",
    "\n",
    "print('## OR formula ##')\n",
    "solver.add(Or(x))\n",
    "benchmark('Solver-based', count_models_with_solver, solver, x)\n",
    "benchmark('Enumeration-based (conditional check, direct assignment)', count_models_by_enumeration, solver, x)\n",
    "benchmark('Enumeration-based (conditional check, separate assignment)', count_models_by_enumeration2, solver, x)\n",
    "benchmark('Enumeration-based (substitute + simplify)', count_models_by_enumeration3, solver, x)\n",
    "\n",
    "print('\\n## AND formula ##')\n",
    "solver.reset()\n",
    "solver.add(And(x))\n",
    "benchmark('Solver-based', count_models_with_solver, solver, x)\n",
    "benchmark('Enumeration-based (conditional check, direct assignment)', count_models_by_enumeration, solver, x)\n",
    "benchmark('Enumeration-based (conditional check, separate assignment)', count_models_by_enumeration2, solver, x)\n",
    "benchmark('Enumeration-based (substitute + simplify)', count_models_by_enumeration3, solver, x)"
   ]
  },
  {
   "cell_type": "markdown",
   "metadata": {},
   "source": [
    "The enumeration-based approach has to evaluate the same number of values for AND and OR formulas, i.e., all value combinations.\n",
    "The conditional-checking approach still seems to benefit from problems with fewer solutions, though not as strong as the solver-based approach.\n",
    "Overall, there is no clear winner: Depending on the number of solutions, solving or enumerating might be better."
   ]
  },
  {
   "cell_type": "markdown",
   "metadata": {},
   "source": [
    "## Google OR Tools\n",
    "\n",
    "Google provides a framework for combinatorial white-box optimization problems, including constraint [solving](https://developers.google.com/optimization/cp/cp_solver) and [optimization](https://developers.google.com/optimization/cp/integer_opt_cp).\n",
    "Besides the [Python API](https://developers.google.com/optimization/reference/python/sat/python/cp_model), C++, Java and C# are supported.\n",
    "Creating an enumeration-based solution is more difficult than with `Z3`, as we cannot simply copy models or make conditional evaluations (temporary assignments).\n",
    "Thus, we refrain from implementing such a solution.\n",
    "Howeveer, as a nice alternative, iterating over all valid solutions is supported natively."
   ]
  },
  {
   "cell_type": "code",
   "execution_count": 4,
   "metadata": {},
   "outputs": [],
   "source": [
    "from ortools.sat.python import cp_model\n",
    "\n",
    "def count_models_with_solver(model, variables):\n",
    "    # TO DO: make a copy of model (not supported natively)\n",
    "    solver = cp_model.CpSolver()\n",
    "    solutions = 0\n",
    "    while solver.Solve(model) == cp_model.FEASIBLE:\n",
    "        solutions = solutions + 1\n",
    "        # Invert at least one variable to get a different solution:\n",
    "        model.AddBoolOr([x.Not() if solver.Value(x) == 1 else x for x in variables])\n",
    "    return solutions\n",
    "\n",
    "class Solution_Counter(cp_model.CpSolverSolutionCallback):\n",
    "\n",
    "    def __init__(self):\n",
    "        cp_model.CpSolverSolutionCallback.__init__(self)\n",
    "        self.__solution_count = 0\n",
    "\n",
    "    def on_solution_callback(self):\n",
    "        self.__solution_count += 1\n",
    "\n",
    "    def solution_count(self):\n",
    "        return self.__solution_count\n",
    "\n",
    "def count_models_natively(model, counter_callback):\n",
    "    solver = cp_model.CpSolver()\n",
    "    solver.SearchForAllSolutions(model=model, callback=counter_callback)\n",
    "    return counter_callback.solution_count()"
   ]
  },
  {
   "cell_type": "code",
   "execution_count": 5,
   "metadata": {
    "scrolled": true
   },
   "outputs": [
    {
     "name": "stdout",
     "output_type": "stream",
     "text": [
      "## OR formula ##\n",
      "--Solver-based approach--\n",
      "Number of models: 0\n",
      "Time: 0.01 s\n",
      "--Native approach--\n",
      "Number of models: 1023\n",
      "Time: 0.01 s\n",
      "\n",
      "## AND formula ##\n",
      "--Solver-based approach--\n",
      "Number of models: 0\n",
      "Time: 0.0 s\n",
      "--Native approach--\n",
      "Number of models: 1\n",
      "Time: 0.0 s\n"
     ]
    }
   ],
   "source": [
    "from ortools.sat.python import cp_model\n",
    "\n",
    "print('## OR formula ##')\n",
    "model = cp_model.CpModel()\n",
    "x = [model.NewBoolVar('x' + str(i)) for i in range(10)]\n",
    "model.AddBoolOr(x)\n",
    "benchmark('Solver-based', count_models_with_solver, model, x)\n",
    "model = cp_model.CpModel() # solver-based approach changes model, therefore re-creation\n",
    "x = [model.NewBoolVar('x' + str(i)) for i in range(10)]\n",
    "model.AddBoolOr(x)\n",
    "benchmark('Native', count_models_natively, model, Solution_Counter())\n",
    "\n",
    "print('\\n## AND formula ##')\n",
    "model = cp_model.CpModel()\n",
    "x = [model.NewBoolVar('x' + str(i)) for i in range(10)]\n",
    "model.AddBoolAnd(x)\n",
    "benchmark('Solver-based', count_models_with_solver, model, x)\n",
    "model = cp_model.CpModel()\n",
    "x = [model.NewBoolVar('x' + str(i)) for i in range(10)]\n",
    "model.AddBoolAnd(x)\n",
    "benchmark('Native', count_models_natively, model, Solution_Counter())"
   ]
  },
  {
   "cell_type": "markdown",
   "metadata": {},
   "source": [
    "The native approach beats the solver-based approach.\n",
    "Compared to `Z3`, the native approach with `OR Tools` is about as fast as `Z3` (solver-based) for AND formulas and slightly faster than `Z3` (enumeration-based) for OR formulas."
   ]
  },
  {
   "cell_type": "markdown",
   "metadata": {},
   "source": [
    "## pySMT\n",
    "\n",
    "[pySMT](https://pysmt.readthedocs.io/en/latest/index.html) is a wrapper for [various solvers](https://github.com/pysmt/pysmt#solvers-support) supporting the *SMT-Lib* format, including `Z3`.\n",
    "The solvers have to be [installed separately](https://pysmt.readthedocs.io/en/latest/getting_started.html#installation)."
   ]
  },
  {
   "cell_type": "code",
   "execution_count": 6,
   "metadata": {},
   "outputs": [],
   "source": [
    "from pysmt.shortcuts import *\n",
    "\n",
    "def count_models_with_solver(solver, variables):\n",
    "    solver.push() # as we will add further assertions to solver, checkpoint current state\n",
    "    solutions = 0\n",
    "    while solver.solve():\n",
    "        solutions = solutions + 1\n",
    "        # Invert at least one variable to get a different solution (\"iff\" == \"<-->\"):\n",
    "        solver.add_assertion(Not(And([Iff(x, solver.get_value(x)) for x in variables])))\n",
    "    solver.pop() # restore solver to previous state\n",
    "    return solutions\n",
    "\n",
    "import itertools\n",
    "\n",
    "# Fastest enumeration by conditional checking.\n",
    "def count_models_by_enumeration(solver, variables):\n",
    "    solutions = 0\n",
    "    for assignment in itertools.product(*[(x, Not(x)) for x in variables]): # all combinations\n",
    "        if solver.solve(assignment): # conditional check (does not add assignment permanently)\n",
    "            solutions = solutions + 1\n",
    "    return solutions\n",
    "\n",
    "# Slower enumeration by substitution and simplification.\n",
    "def count_models_by_enumeration2(conditions, variables):\n",
    "    solutions = 0\n",
    "    for assignment in itertools.product([Bool(False), Bool(True)], repeat = len(variables)): # all combinations\n",
    "        satisfied = True\n",
    "        for condition in conditions:\n",
    "            if substitute(condition, dict(zip(variables, assignment))).simplify().is_false():\n",
    "                satisfied = False\n",
    "                break\n",
    "        if satisfied: solutions = solutions + 1\n",
    "    return solutions"
   ]
  },
  {
   "cell_type": "markdown",
   "metadata": {},
   "source": [
    "Here, we use the mSAT solver."
   ]
  },
  {
   "cell_type": "code",
   "execution_count": 7,
   "metadata": {},
   "outputs": [
    {
     "name": "stdout",
     "output_type": "stream",
     "text": [
      "## OR formula ##\n",
      "--Solver-based approach--\n",
      "Number of models: 1023\n",
      "Time: 0.58 s\n",
      "--Enumeration-based (conditional check) approach--\n",
      "Number of models: 1023\n",
      "Time: 0.11 s\n",
      "--Enumeration-based (substitute + simplify) approach--\n",
      "Number of models: 1023\n",
      "Time: 0.17 s\n",
      "\n",
      "## AND formula ##\n",
      "--Solver-based approach--\n",
      "Number of models: 1\n",
      "Time: 0.0 s\n",
      "--Enumeration-based (conditional check) approach--\n",
      "Number of models: 1\n",
      "Time: 0.07 s\n",
      "--Enumeration-based (substitute + simplify) approach--\n",
      "Number of models: 1\n",
      "Time: 0.18 s\n"
     ]
    }
   ],
   "source": [
    "from pysmt.shortcuts import *\n",
    "\n",
    "x = [Symbol('x' + str(i)) for i in range(10)]\n",
    "solver = Solver(name='msat') # could also use 'z3'\n",
    "\n",
    "print('## OR formula ##')\n",
    "solver.add_assertion(Or(x))\n",
    "benchmark('Solver-based', count_models_with_solver, solver, x)\n",
    "benchmark('Enumeration-based (conditional check)', count_models_by_enumeration, solver, x)\n",
    "benchmark('Enumeration-based (substitute + simplify)', count_models_by_enumeration2, [Or(x)], x)\n",
    "\n",
    "print('\\n## AND formula ##')\n",
    "solver.reset_assertions()\n",
    "solver.add_assertion(And(x))\n",
    "benchmark('Solver-based', count_models_with_solver, solver, x)\n",
    "benchmark('Enumeration-based (conditional check)', count_models_by_enumeration, solver, x)\n",
    "benchmark('Enumeration-based (substitute + simplify)', count_models_by_enumeration2, [And(x)], x)"
   ]
  },
  {
   "cell_type": "markdown",
   "metadata": {},
   "source": [
    "We don't get a performance advantage compared to `Z3`."
   ]
  },
  {
   "cell_type": "markdown",
   "metadata": {},
   "source": [
    "## PicoSAT\n",
    "\n",
    "A SAT solver implemented in C with a very simple [Python interface](https://github.com/ContinuumIO/pycosat).\n",
    "It offers solving and iterative solving for pure SAT formulas in CNF.\n",
    "The formula has to be provided as a list of clauses.\n",
    "Each clause is a list of non-zero integers indicating the involved variables.\n",
    "Negative numbers represent negated variables."
   ]
  },
  {
   "cell_type": "code",
   "execution_count": 8,
   "metadata": {},
   "outputs": [],
   "source": [
    "from pycosat import itersolve\n",
    "\n",
    "def count_models_natively(formula, dummyParam):\n",
    "    iterator = pycosat.itersolve(formula)\n",
    "    return sum(1 for _ in iterator) # might be more efficient than turning into list"
   ]
  },
  {
   "cell_type": "code",
   "execution_count": 9,
   "metadata": {},
   "outputs": [
    {
     "name": "stdout",
     "output_type": "stream",
     "text": [
      "## OR formula ##\n",
      "--Native approach--\n",
      "Number of models: 1023\n",
      "Time: 0.01 s\n",
      "\n",
      "## AND formula ##\n",
      "--Native approach--\n",
      "Number of models: 1\n",
      "Time: 0.0 s\n"
     ]
    }
   ],
   "source": [
    "import pycosat\n",
    "\n",
    "print('## OR formula ##')\n",
    "orFormula = [[i for i in range(1, 11)]]\n",
    "benchmark('Native', count_models_natively, orFormula, None)\n",
    "\n",
    "print('\\n## AND formula ##')\n",
    "andFormula = [[i] for i in range(1, 11)]\n",
    "benchmark('Native', count_models_natively, andFormula, None)"
   ]
  },
  {
   "cell_type": "markdown",
   "metadata": {},
   "source": [
    "A very fast solver, though the input requirements are strongly limiting.\n",
    "The solver can also solve bigger OR clauses, e.g. with 20 variables, instantly, but iterating over the solutions then becomes the bottleneck."
   ]
  },
  {
   "cell_type": "markdown",
   "metadata": {},
   "source": [
    "## python-constraint\n",
    "\n",
    "[python-constrant](https://labix.org/python-constraint) is directly targeted at constraint solving.\n",
    "However, the pre-defined constraint types do not include logical constraints, which is no problem for simple scenarios (there are good arithmetic alternatives), but might become tricky when combining constraints.\n",
    "It is possible to define your own constraints."
   ]
  },
  {
   "cell_type": "code",
   "execution_count": 10,
   "metadata": {},
   "outputs": [],
   "source": [
    "from constraint import *\n",
    "\n",
    "# Constraints have to be classes or functions\n",
    "class ExcludeSolutionConstraint(Constraint):\n",
    "    \n",
    "    def __init__(self, assignments):\n",
    "        self._solution = assignments\n",
    "        \n",
    "    def __call__(self, variables, domains, assignments, forwardcheck=False):\n",
    "        return assignments != self._solution # at least one difference\n",
    "\n",
    "def count_models_with_solver(problem, variables):\n",
    "    # TO DO: make a copy of problem (not supported natively)\n",
    "    solutions = 0\n",
    "    solution = problem.getSolution()\n",
    "    while not solution is None:\n",
    "        solutions = solutions + 1\n",
    "        problem.addConstraint(ExcludeSolutionConstraint(solution))\n",
    "        solution = problem.getSolution()\n",
    "    return solutions\n",
    "\n",
    "def count_models_natively(problem, dummyParam):\n",
    "    return len(problem.getSolutions())"
   ]
  },
  {
   "cell_type": "code",
   "execution_count": 11,
   "metadata": {},
   "outputs": [
    {
     "name": "stdout",
     "output_type": "stream",
     "text": [
      "## OR formula ##\n",
      "--Native approach--\n",
      "Number of models: 1023\n",
      "Time: 0.02 s\n",
      "\n",
      "## AND formula ##\n",
      "--Native approach--\n",
      "Number of models: 1\n",
      "Time: 0.02 s\n",
      "--Solver-based approach--\n",
      "Number of models: 1\n",
      "Time: 0.02 s\n"
     ]
    }
   ],
   "source": [
    "from constraint import *\n",
    "\n",
    "x = ['x' + str(i) for i in range(10)]\n",
    "\n",
    "print('## OR formula ##')\n",
    "problem = Problem()\n",
    "problem.addVariables(x, domain = [0,1])\n",
    "problem.addConstraint(MinSumConstraint(1))\n",
    "benchmark('Native', count_models_natively, problem, None)\n",
    "\n",
    "print('\\n## AND formula ##')\n",
    "problem = Problem()\n",
    "problem.addVariables(x, domain = [0,1])\n",
    "problem.addConstraint(ExactSumConstraint(len(x)))\n",
    "benchmark('Native', count_models_natively, problem, None)\n",
    "benchmark('Solver-based', count_models_with_solver, problem, x)"
   ]
  },
  {
   "cell_type": "markdown",
   "metadata": {},
   "source": [
    "## Dummy Arithmetic Enumerator\n",
    "\n",
    "To check how fast the enumeration loop is in general (without the solver overhead for conditional checking or simplification), we define some methods which each check one particular logical formula in an arithmetic way.\n",
    "This is based on the observation that `AND` could be replaced with `min() == 1`, `OR` with `max() == 1` and `NOT(x)` with `1 - x`."
   ]
  },
  {
   "cell_type": "code",
   "execution_count": 12,
   "metadata": {},
   "outputs": [],
   "source": [
    "import itertools\n",
    "import numpy as np\n",
    "\n",
    "def count_models_by_enumeration_or(numVariables, dummyParam):\n",
    "    solutions = 0\n",
    "    for assignment in itertools.product([False, True], repeat=numVariables): # all combinations\n",
    "        if max(assignment) == 1:\n",
    "            solutions = solutions + 1\n",
    "    return solutions\n",
    "\n",
    "# Slower solution using vector operations: create assignment matrix\n",
    "# (rows are assignments, columns are variables), evaluate row-wise\n",
    "# and aggregate result\n",
    "def count_models_by_enumeration_or2(numVariables, dummyParam):\n",
    "    return np.array(list(itertools.product([False, True], repeat=numVariables))).max(axis=1).sum()\n",
    "\n",
    "# Slower solution with manual int-to-binary conversion\n",
    "# (using numpy array instead of list is even slower)\n",
    "def count_models_by_enumeration_or3(numVariables, dummyParam):\n",
    "    solutions = 0\n",
    "    for i in range(2 ** numVariables):\n",
    "        remaining_value = i\n",
    "        for varIdx in range(numVariables):\n",
    "            if remaining_value % 2 == 1:\n",
    "                solutions = solutions + 1\n",
    "                break # early ababdoning: if one variable true, then OR is true\n",
    "            remaining_value = remaining_value // 2\n",
    "    return solutions\n",
    "\n",
    "def count_models_by_enumeration_and(numVariables, dummyParam):\n",
    "    solutions = 0\n",
    "    for assignment in itertools.product([False, True], repeat=numVariables): # all combinations\n",
    "        if min(assignment) == 1:\n",
    "            solutions = solutions + 1\n",
    "    return solutions"
   ]
  },
  {
   "cell_type": "code",
   "execution_count": 13,
   "metadata": {},
   "outputs": [
    {
     "name": "stdout",
     "output_type": "stream",
     "text": [
      "## OR formula ##\n",
      "--Enumeration-based (10 variables) approach--\n",
      "Number of models: 1023\n",
      "Time: 0.0 s\n",
      "--Enumeration-based (20 variables) approach--\n",
      "Number of models: 1048575\n",
      "Time: 0.62 s\n",
      "## AND formula ##\n",
      "--Enumeration-based (10 variables) approach--\n",
      "Number of models: 1\n",
      "Time: 0.0 s\n",
      "--Enumeration-based (20 variables) approach--\n",
      "Number of models: 1\n",
      "Time: 0.53 s\n"
     ]
    }
   ],
   "source": [
    "print('## OR formula ##')\n",
    "benchmark('Enumeration-based (10 variables)', count_models_by_enumeration_or, 10, None)\n",
    "benchmark('Enumeration-based (20 variables)', count_models_by_enumeration_or, 20, None)\n",
    "\n",
    "print('## AND formula ##')\n",
    "benchmark('Enumeration-based (10 variables)', count_models_by_enumeration_and, 10, None)\n",
    "benchmark('Enumeration-based (20 variables)', count_models_by_enumeration_and, 20, None)"
   ]
  },
  {
   "cell_type": "markdown",
   "metadata": {},
   "source": [
    "This iterative arithmetic approach is comparatively fast, but for each 10 new variables, the processing time will still increase $2^{10} = 1024$ times.\n",
    "We can't prevent exponential growth ...\n",
    "An alternative approach which uses vectorized evaluation of assignments still has to create huge assignment matrices.\n",
    "This takes time and also consumes a lot of memory.\n",
    "Plus, it only moves the starting point, the growth still happens ..."
   ]
  },
  {
   "cell_type": "markdown",
   "metadata": {},
   "source": [
    "## Flexible Enumerator\n",
    "\n",
    "The dummy enumerator above does not allow to build own logical expressions, it is tailored to hard-coded formulas.\n",
    "Actually, is is not hard to create a configurable enumerator, which we do now.\n",
    "First, we define several classes which allow to formulate nested constraints.\n",
    "Next, we adapt our enumeration method as already used above."
   ]
  },
  {
   "cell_type": "code",
   "execution_count": 14,
   "metadata": {},
   "outputs": [],
   "source": [
    "# \"interface\" / super-class\n",
    "class Expression:\n",
    "    \n",
    "    def is_true(self):\n",
    "        pass # method not implemented here, but in each sub-class\n",
    "    \n",
    "class Variable(Expression):\n",
    "    \n",
    "    def __init__(self):\n",
    "        self.value = False\n",
    "    \n",
    "    def is_true(self):\n",
    "        return self.value\n",
    "\n",
    "class Not(Expression):\n",
    "    \n",
    "    def __init__ (self, expression):\n",
    "        self.__expression = expression\n",
    "        \n",
    "    def is_true(self):\n",
    "        return not self.__expression.is_true()\n",
    "    \n",
    "class And(Expression):\n",
    "    \n",
    "    def __init__(self, expressions):\n",
    "        self.__expressions = expressions\n",
    "        \n",
    "    def is_true(self):\n",
    "        for expression in self.__expressions:\n",
    "            if not expression.is_true():\n",
    "                return False\n",
    "        return True\n",
    "    \n",
    "class Or(Expression):\n",
    "    \n",
    "    def __init__(self, expressions):\n",
    "        self.__expressions = expressions\n",
    "        \n",
    "    def is_true(self):\n",
    "        for expression in self.__expressions:\n",
    "            if expression.is_true():\n",
    "                return True\n",
    "        return False\n",
    "    \n",
    "import itertools\n",
    "\n",
    "class Problem:\n",
    "    \n",
    "    def __init__(self, variables):\n",
    "        self.__variables = variables\n",
    "        self.__constraints = [] # several constraints allowed, will be combined by AND\n",
    "    \n",
    "    # Add an Expression as constraint\n",
    "    def add_constraint(self, constraint):\n",
    "        self.__constraints.append(constraint)\n",
    "    \n",
    "    def count_models_by_enumeration(self):\n",
    "        solutions = 0\n",
    "        for assignment in itertools.product([False, True], repeat=len(self.__variables)):\n",
    "            # Assign\n",
    "            for i in range(len(assignment)):\n",
    "                self.__variables[i].value = assignment[i]\n",
    "            # Check SAT\n",
    "            satisfied = True\n",
    "            for constraint in self.__constraints:\n",
    "                if not constraint.is_true():\n",
    "                    satisfied = False\n",
    "                    break\n",
    "            solutions = solutions + satisfied\n",
    "        return solutions\n",
    "    \n",
    "def count_model_dispatch(problem, dummyParam):\n",
    "    return problem.count_models_by_enumeration()"
   ]
  },
  {
   "cell_type": "code",
   "execution_count": 15,
   "metadata": {},
   "outputs": [
    {
     "name": "stdout",
     "output_type": "stream",
     "text": [
      "## OR formula ##\n",
      "--Enumeration-based (10 variables) approach--\n",
      "Number of models: 1023\n",
      "Time: 0.0 s\n",
      "--Enumeration-based (20 variables) approach--\n",
      "Number of models: 1048575\n",
      "Time: 4.36 s\n",
      "## AND formula ##\n",
      "--Enumeration-based (10 variables) approach--\n",
      "Number of models: 1\n",
      "Time: 0.0 s\n",
      "--Enumeration-based (20 variables) approach--\n",
      "Number of models: 1\n",
      "Time: 4.58 s\n"
     ]
    }
   ],
   "source": [
    "print('## OR formula ##')\n",
    "x = [Variable() for i in range(10)]\n",
    "problem = Problem(variables=x)\n",
    "problem.add_constraint(Or(x))\n",
    "benchmark('Enumeration-based (10 variables)', count_model_dispatch, problem, None)\n",
    "x = [Variable() for i in range(20)]\n",
    "problem = Problem(variables=x)\n",
    "problem.add_constraint(Or(x))\n",
    "benchmark('Enumeration-based (20 variables)', count_model_dispatch, problem, None)\n",
    "\n",
    "print('## AND formula ##')\n",
    "x = [Variable() for i in range(10)]\n",
    "problem = Problem(variables=x)\n",
    "problem.add_constraint(And(x))\n",
    "benchmark('Enumeration-based (10 variables)', count_model_dispatch, problem, None)\n",
    "x = [Variable() for i in range(20)]\n",
    "problem = Problem(variables=x)\n",
    "problem.add_constraint(And(x))\n",
    "benchmark('Enumeration-based (20 variables)', count_model_dispatch, problem, None)"
   ]
  },
  {
   "cell_type": "markdown",
   "metadata": {},
   "source": [
    "We see some overhead compared to the arithmetic enumerator, but are still faster than any complete enumeration based on a solver.\n",
    "We cannot beat iterative solving for formulas which only have a few models."
   ]
  }
 ],
 "metadata": {
  "kernelspec": {
   "display_name": "solver-demo",
   "language": "python",
   "name": "solver-demo"
  },
  "language_info": {
   "codemirror_mode": {
    "name": "ipython",
    "version": 3
   },
   "file_extension": ".py",
   "mimetype": "text/x-python",
   "name": "python",
   "nbconvert_exporter": "python",
   "pygments_lexer": "ipython3",
   "version": "3.8.3"
  }
 },
 "nbformat": 4,
 "nbformat_minor": 4
}
